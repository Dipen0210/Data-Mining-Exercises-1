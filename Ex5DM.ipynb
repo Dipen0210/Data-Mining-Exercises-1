{
  "nbformat": 4,
  "nbformat_minor": 0,
  "metadata": {
    "colab": {
      "provenance": []
    },
    "kernelspec": {
      "name": "python3",
      "display_name": "Python 3"
    },
    "language_info": {
      "name": "python"
    }
  },
  "cells": [
    {
      "cell_type": "markdown",
      "source": [
        "Question: 5"
      ],
      "metadata": {
        "id": "6NUWZATFvR0c"
      }
    },
    {
      "cell_type": "markdown",
      "source": [
        "Importing all libraries here"
      ],
      "metadata": {
        "id": "0Z75dDTdwh0M"
      }
    },
    {
      "cell_type": "code",
      "source": [
        "import numpy as np\n",
        "import pandas as pd\n",
        "import statsmodels.api as sm\n",
        "from sklearn.linear_model import LassoCV\n",
        "from sklearn.preprocessing import StandardScaler\n",
        "import matplotlib.pyplot as plt"
      ],
      "metadata": {
        "id": "Nbp4xl4bwm46"
      },
      "execution_count": 20,
      "outputs": []
    },
    {
      "cell_type": "markdown",
      "source": [
        "(a) Create a random number generator and use its normal() method\n",
        "to generate a predictor X of length n = 100, as well as a noise\n",
        "vector ϵ of length n = 100."
      ],
      "metadata": {
        "id": "Rx4MBRaRvYDJ"
      }
    },
    {
      "cell_type": "code",
      "source": [
        "n = 100\n",
        "\n",
        "rng = np.random.default_rng()\n",
        "\n",
        "X = rng.normal(loc=0.0, scale=1.0, size=n)\n",
        "epsilon = rng.normal(loc=0.0, scale=1.0, size=n)\n",
        "\n",
        "print(\"Predictor X:\", X)\n",
        "print(\"Noise vector: \", epsilon)\n"
      ],
      "metadata": {
        "colab": {
          "base_uri": "https://localhost:8080/"
        },
        "id": "26VgaLrv0Ykk",
        "outputId": "a0db5c9b-7df7-40ce-b2c7-361db15cad7f"
      },
      "execution_count": 21,
      "outputs": [
        {
          "output_type": "stream",
          "name": "stdout",
          "text": [
            "Predictor X: [-2.1152774  -0.96872034  0.33221841  0.0107884   1.55890675 -0.30692119\n",
            "  0.0574967  -0.82784077 -0.43957679  0.22170317  0.16564021  1.12265924\n",
            "  0.61326569  0.72959364  0.73158243  1.19646381  1.28059167 -0.14549813\n",
            " -1.94484107 -1.00939904 -0.39227968 -0.41798572 -2.08080727 -2.54022164\n",
            " -0.8305938  -1.12211206  1.24172558  0.34834778 -1.69959494 -0.48304076\n",
            " -0.01287129 -1.1700692  -0.48236281 -1.70635231  1.96903211 -0.41886403\n",
            "  0.85005718 -0.44469596  1.13589745 -1.18579334  1.52234064 -0.15802053\n",
            " -0.78182373 -0.05869503  0.03305076 -0.42856219  0.06024159 -2.39635224\n",
            " -0.52565909  2.04280873  0.51558673  0.99271704 -0.61864106  0.21742185\n",
            "  0.29748335  0.05303982  1.04584384  0.06325125  0.55104966  1.75799919\n",
            "  0.49006063  0.95592854 -1.53948735 -0.06940384 -0.60328596  1.09172465\n",
            "  1.17541233  1.45254036 -1.90843098 -0.21281634 -0.50445401 -0.10492038\n",
            " -0.21354867  1.14132438 -2.2803304  -1.13045844 -0.32300666 -0.73322408\n",
            " -0.96329946 -0.25466064  0.16643012 -0.49288778  1.07868826 -0.63115521\n",
            "  0.09590155 -0.21401838  1.31766449 -1.27566659  0.57725899  0.10887555\n",
            "  0.54672091 -0.01424186 -0.92409435  0.40885873  2.40213598 -0.81603157\n",
            "  0.57243883 -0.75053285 -0.40014409 -0.39647623]\n",
            "Noise vector:  [ 4.02484913e-01  7.93656751e-01  1.23080073e-01  6.53390329e-01\n",
            " -6.30594193e-01 -1.40333625e+00 -3.10786212e-03 -6.89591932e-01\n",
            "  1.50647400e+00  1.49942309e+00 -1.96583787e+00 -9.54195652e-01\n",
            "  8.17833618e-01 -8.46506278e-01  1.48155998e+00 -6.68396910e-01\n",
            " -7.46131409e-01 -1.73949534e-03 -9.09577561e-01 -4.58402020e-02\n",
            " -1.19900721e+00 -4.94356181e-01 -2.82259212e-01 -2.98294676e+00\n",
            "  1.44855768e-01 -1.24912773e+00 -3.77786138e-01 -4.05991296e-01\n",
            "  1.52289762e+00  4.30089448e-02 -8.42339023e-01 -4.29042457e-01\n",
            "  4.91592437e-03  4.44453060e-01 -1.13068787e+00 -6.47689353e-01\n",
            " -1.01152963e+00  7.27342607e-01  2.62813686e-01 -1.06998740e-02\n",
            "  2.14043220e+00  5.59744803e-01  1.46791535e+00  4.69200358e-01\n",
            "  7.10652042e-01  8.34208557e-01  1.27785564e-01 -1.42841808e+00\n",
            "  1.16395621e+00  9.96081323e-01 -2.41954547e-01 -1.32038691e+00\n",
            "  6.99290992e-01  1.56836900e+00 -1.98351768e+00  6.63509088e-01\n",
            "  1.64538982e-01 -2.62989708e+00  8.34680188e-01  4.47001256e-01\n",
            " -1.49476322e+00  8.00366626e-01  3.12674614e-01 -8.40528188e-01\n",
            " -3.16004938e-01  7.68534282e-03 -9.74443832e-01  1.84852014e-01\n",
            "  2.16448168e+00  1.06404922e+00  1.67950841e-01  5.78057072e-01\n",
            "  2.84870757e-02  1.40645619e+00  1.51503822e-01  3.29476336e-01\n",
            "  8.18234548e-01  2.21942077e+00  1.08427947e+00  8.13862743e-01\n",
            "  7.22685275e-01  2.06840927e-02  4.94189694e-01 -2.73963452e-01\n",
            "  3.71876330e-02 -6.89829797e-01  6.23560413e-01  3.69314166e-01\n",
            "  1.87070939e+00  6.97555271e-01 -6.56405782e-01 -1.27111963e-01\n",
            "  1.40205592e+00  1.59873493e+00  1.45431107e+00  1.90982366e+00\n",
            "  3.86081043e-01  7.78096596e-02  1.33493093e+00 -8.28158560e-01]\n"
          ]
        }
      ]
    },
    {
      "cell_type": "markdown",
      "source": [
        "(b) Generate a response vector Y of length n = 100 according to\n",
        "the model.\n",
        "\n",
        "Beta values setting I done by myself. it can be anything."
      ],
      "metadata": {
        "id": "yvpY9PQKwWKa"
      }
    },
    {
      "cell_type": "code",
      "source": [
        "beta_0 = 1.1\n",
        "beta_1 = -1.0\n",
        "beta_2 = 1.9\n",
        "beta_3 = 0.5\n",
        "\n",
        "Y = beta_0 + beta_1 * X + beta_2 * X**2 + beta_3 * X**3 + epsilon\n",
        "\n",
        "# output vector Y\n",
        "print(\"Y:\", Y)\n"
      ],
      "metadata": {
        "colab": {
          "base_uri": "https://localhost:8080/"
        },
        "id": "waMq83ru0eAt",
        "outputId": "16e29e8e-94c7-4470-a3b9-f01de29f3731"
      },
      "execution_count": 22,
      "outputs": [
        {
          "output_type": "stream",
          "name": "stdout",
          "text": [
            "Y: [ 7.38682244  4.19084056  1.11889622  1.7428237   5.42208058  0.16811003\n",
            "  1.04577163  2.25668942  3.37071431  2.47655789 -0.97707608  2.12531577\n",
            "  2.13447107  0.72946701  3.06265814  2.81142231  3.23914624  1.28244099\n",
            "  5.64374636  3.48521155  0.55546818  1.31906889  6.62039306  4.72177716\n",
            "  3.09972554  2.6588962   3.36736227  0.59735399  7.35613171  2.01302006\n",
            "  0.27084597  3.64129581  1.97324249  6.29877767  9.18380107  1.16777988\n",
            "  0.91847238  2.60380179  3.41121922  4.11301908  7.88540971  1.86323633\n",
            "  4.27216669  1.63433998  1.77969481  2.67237925  1.17454847  6.09816064\n",
            "  3.24199411 12.24449024  0.91606423  1.1484765   3.02671175  2.54590345\n",
            " -0.99969488  1.715889    2.8688613  -1.58542043  2.0442411   8.37767021\n",
            " -0.36967461  3.11742036  5.63089353  0.33786059  1.96900936  2.9310928\n",
            "  2.38714409  5.37340952  8.61756276  2.45809876  2.19172     1.80331571\n",
            "  1.42381228  4.58346912  7.48290431  4.26568679  2.4226243   4.87702114\n",
            "  4.46373117  2.28348462  1.7111882   2.01528408  3.35384508  2.08835736\n",
            "  1.05920159  0.7063145   4.84864205  4.7989365   3.12276289  1.7118474\n",
            "  0.5464989   0.98751384  4.65409061  2.64166411 18.04613524  4.81937875\n",
            "  1.63003618  2.78722426  3.10725949  0.93582341]\n"
          ]
        }
      ]
    },
    {
      "cell_type": "markdown",
      "source": [
        "(c) forward stepwise selection\n",
        "\n",
        "finding lowest cp to prevent model from overfittting."
      ],
      "metadata": {
        "id": "G9Azf9gFwpgL"
      }
    },
    {
      "cell_type": "code",
      "source": [
        "\n",
        "X_poly = np.column_stack([X**i for i in range(1, 11)])\n",
        "\n",
        "X_cnst = sm.add_constant(X_poly)\n",
        "\n",
        "# forward stepwise variables\n",
        "n = len(Y)\n",
        "best_model = None\n",
        "rf_predictors = list(range(X_cnst.shape[1]))\n",
        "selcf_predictors = []\n",
        "\n",
        "\n",
        "def cp_func(model, X, Y):\n",
        "    n = len(Y)\n",
        "    mse = np.mean((Y - model.predict(X))**2)\n",
        "    p = X.shape[1]\n",
        "    return mse + 2 * p * (np.mean(Y**2) - mse)\n",
        "\n",
        "# Forward stepwise selection\n",
        "while rf_predictors:\n",
        "    cp_val = []\n",
        "\n",
        "    for predictor in rf_predictors:\n",
        "        pred_test = selcf_predictors + [predictor]\n",
        "        X_test = X_cnst[:, pred_test]\n",
        "        model = sm.OLS(Y, X_test).fit()\n",
        "        cp = cp_func(model, X_test, Y)\n",
        "        cp_val.append((cp, predictor, model))\n",
        "\n",
        "    # find model with lowest cp\n",
        "    best_cp, best_predictor, best_model = min(cp_val, key=lambda x: x[0])\n",
        "    selcf_predictors.append(best_predictor)\n",
        "    rf_predictors.remove(best_predictor)\n",
        "\n",
        "final_forward = sm.OLS(Y, X_cnst[:, selcf_predictors]).fit()\n",
        "\n",
        "print(\"Forward Selection of predictors in squence:\", selcf_predictors)\n",
        "print(\"Coefficients of forward model:\", final_forward.params)\n"
      ],
      "metadata": {
        "colab": {
          "base_uri": "https://localhost:8080/"
        },
        "id": "hPuDa3GQ7r_V",
        "outputId": "284e00cb-aac6-495f-9020-28b70abbfe7b"
      },
      "execution_count": 23,
      "outputs": [
        {
          "output_type": "stream",
          "name": "stdout",
          "text": [
            "Forward Selection of predictors in squence: [3, 9, 5, 7, 1, 10, 8, 6, 4, 2, 0]\n",
            "Coefficients of forward model: [-0.16075263  0.01911758  0.65457059 -0.20037684 -1.04396716  0.01566562\n",
            " -0.21553966  1.01497305 -1.92144612  3.22937936  1.09961437]\n"
          ]
        }
      ]
    },
    {
      "cell_type": "markdown",
      "source": [
        "(d) Backward stepwise selection"
      ],
      "metadata": {
        "id": "-JzT2j28_FuH"
      }
    },
    {
      "cell_type": "code",
      "source": [
        "\n",
        "selcB_predictors = list(range(X_cnst.shape[1]))\n",
        "\n",
        "# Backward stepwise selection\n",
        "while len(selcB_predictors) > 1:\n",
        "    cp_val = []\n",
        "\n",
        "    for predictor in selcB_predictors[1:]:\n",
        "        pred_test = [p for p in selcB_predictors if p != predictor]\n",
        "        X_test = X_cnst[:, pred_test]\n",
        "        model = sm.OLS(Y, X_test).fit()\n",
        "        cp = cp_func(model, X_test, Y)\n",
        "        cp_val.append((cp, predictor, model))\n",
        "\n",
        "    # find model with lowest cp\n",
        "    best_cp, pred_remove, best_model = min(cp_val, key=lambda x: x[0])\n",
        "    selcB_predictors.remove(pred_remove)\n",
        "\n",
        "final_backward = sm.OLS(Y, X_cnst[:, selcB_predictors]).fit()\n",
        "\n",
        "print(\"Backward selection of predictors in squence removal:\", selcB_predictors)\n",
        "print(\"coefficients of backward model:\", final_backward.params)\n"
      ],
      "metadata": {
        "colab": {
          "base_uri": "https://localhost:8080/"
        },
        "id": "FvxBwpYo8j-g",
        "outputId": "70744c3b-b52a-4695-f388-6c33612cde55"
      },
      "execution_count": 24,
      "outputs": [
        {
          "output_type": "stream",
          "name": "stdout",
          "text": [
            "Backward selection of predictors in squence removal: [0]\n",
            "coefficients of backward model: [3.15355276]\n"
          ]
        }
      ]
    },
    {
      "cell_type": "markdown",
      "source": [
        "Results Comparision"
      ],
      "metadata": {
        "id": "MigM1oDE_Bt2"
      }
    },
    {
      "cell_type": "code",
      "source": [
        "print(\"\\nFinal Results:\")\n",
        "print(\"\\n\")\n",
        "print(\"Forward selection selected predictors:\", selcf_predictors)\n",
        "print(\"Forward selection model coefficients:\", final_forward.params)\n",
        "print(\"\\nBackward selection selected predictors:\", selcB_predictors)\n",
        "print(\"Backward selection model coefficients:\", final_backward.params)\n"
      ],
      "metadata": {
        "colab": {
          "base_uri": "https://localhost:8080/"
        },
        "id": "7WDgD6oB8m4-",
        "outputId": "257c7382-7b4a-4a84-c8e0-db5f243288b9"
      },
      "execution_count": 25,
      "outputs": [
        {
          "output_type": "stream",
          "name": "stdout",
          "text": [
            "\n",
            "Final Results:\n",
            "\n",
            "\n",
            "Forward selection selected predictors: [3, 9, 5, 7, 1, 10, 8, 6, 4, 2, 0]\n",
            "Forward selection model coefficients: [-0.16075263  0.01911758  0.65457059 -0.20037684 -1.04396716  0.01566562\n",
            " -0.21553966  1.01497305 -1.92144612  3.22937936  1.09961437]\n",
            "\n",
            "Backward selection selected predictors: [0]\n",
            "Backward selection model coefficients: [3.15355276]\n"
          ]
        }
      ]
    },
    {
      "cell_type": "markdown",
      "source": [
        "(f) Generate response vector Y and performing forward stepwise selection and  Lasso regression."
      ],
      "metadata": {
        "id": "gYF2CzOpnzna"
      }
    },
    {
      "cell_type": "code",
      "source": [
        "\n",
        "betaLasso_0 = 2.0\n",
        "betaLasso_7 = 5.0\n",
        "\n",
        "n = 100\n",
        "X = np.random.normal(size=n)\n",
        "epsilon = np.random.normal(size=n)\n",
        "\n",
        "Y_lasso = betaLasso_0 + betaLasso_7 * X**7 + epsilon\n",
        "\n",
        "X_Lasso = np.column_stack([X**i for i in range(1, 11)])\n",
        "\n",
        "X_Lasso_cnst = sm.add_constant(X_Lasso)\n",
        "\n",
        "selcLasso_predictors = []\n",
        "rLasso_predictors = list(range(X_Lasso_cnst.shape[1]))\n",
        "\n",
        "\n",
        "def cp_func(model, X, Y):\n",
        "    residuals = Y - model.fittedvalues\n",
        "    rss = np.sum(residuals**2)\n",
        "    p = model.df_model + 1\n",
        "    n = len(Y)\n",
        "    return (rss / n) + 2 * p\n",
        "\n",
        "while rLasso_predictors:\n",
        "    cp_val = []\n",
        "\n",
        "    for predictor in rLasso_predictors:\n",
        "        pred_test = selcLasso_predictors + [predictor]\n",
        "        X_test_lasso = X_Lasso_cnst[:, pred_test]\n",
        "        model = sm.OLS(Y_lasso, X_test_lasso).fit()\n",
        "        cp = cp_func(model, X_test_lasso, Y_lasso)\n",
        "        cp_val.append((cp, predictor, model))\n",
        "\n",
        "    # find model with the lowest Cp\n",
        "    best_cp, best_predictor, best_model = min(cp_val, key=lambda x: x[0])\n",
        "    selcLasso_predictors.append(best_predictor)\n",
        "    rLasso_predictors.remove(best_predictor)\n",
        "\n",
        "final_Lasso = sm.OLS(Y_lasso, X_Lasso_cnst[:, selcLasso_predictors]).fit()\n",
        "\n",
        "scaler = StandardScaler()\n",
        "X_scaled_lasso = scaler.fit_transform(X_Lasso)\n",
        "\n",
        "lasso = LassoCV(cv=10, max_iter=10000, alphas=None, n_alphas=100, fit_intercept=True)\n",
        "lasso.fit(X_scaled_lasso, Y_lasso)\n",
        "\n",
        "print(\"Lasso-Forward selection Results:\")\n",
        "print(\"Selected predictors of Lasso:\", selcLasso_predictors)\n",
        "print(\"Coefficients of forward model in Lasso:\", final_Lasso.params)\n",
        "\n",
        "print(\"\\nLasso Results:\")\n",
        "print(\"best lambda:\", lasso.alpha_)\n",
        "print(\"Lasso coefficients:\", lasso.coef_)\n",
        "\n"
      ],
      "metadata": {
        "colab": {
          "base_uri": "https://localhost:8080/"
        },
        "id": "FmhSVmmI9-2j",
        "outputId": "e2d07db9-4875-4615-c4ed-e79fda51a9df"
      },
      "execution_count": 28,
      "outputs": [
        {
          "output_type": "stream",
          "name": "stdout",
          "text": [
            "Lasso-Forward selection Results:\n",
            "Selected predictors of Lasso: [7, 0, 8, 5, 2, 3, 9, 1, 4, 10, 6]\n",
            "Coefficients of forward model in Lasso: [ 5.02528547  1.67484567  0.37608545 -0.84912407  1.18789244  1.46097373\n",
            "  0.03623925 -0.42459692 -0.67705761 -0.06503559 -0.43504927]\n",
            "\n",
            "Lasso Results:\n",
            "best lambda: 0.1282471790306382\n",
            "Lasso coefficients: [ -0.           0.           0.           0.           3.98317175\n",
            "   0.         118.37100845   0.           5.91441341   0.        ]\n"
          ]
        }
      ]
    },
    {
      "cell_type": "markdown",
      "source": [
        "Results of Lasso"
      ],
      "metadata": {
        "id": "PwmImQIZ28iT"
      }
    },
    {
      "cell_type": "code",
      "source": [
        "\n",
        "plt.figure(figsize=(8, 6))\n",
        "plt.plot(lasso.alphas_, lasso.mse_path_, ':')\n",
        "plt.plot(lasso.alphas_, lasso.mse_path_.mean(axis=-1), color='black', label='Mean CV Error')\n",
        "plt.axvline(lasso.alpha_, linestyle='--', color='red', label=f'Optimal lambda = {lasso.alpha_:.3f}')\n",
        "plt.xscale('log')\n",
        "plt.xlabel('Lambda (log)')\n",
        "plt.ylabel('MSE')\n",
        "plt.title('Cross-validation error of lambda (Lasso)')\n",
        "plt.legend()\n",
        "plt.show()\n",
        "\n"
      ],
      "metadata": {
        "colab": {
          "base_uri": "https://localhost:8080/",
          "height": 569
        },
        "id": "P_us4qFyArzY",
        "outputId": "c34a3016-0de7-46f9-b29b-48d7d1295f87"
      },
      "execution_count": 29,
      "outputs": [
        {
          "output_type": "display_data",
          "data": {
            "text/plain": [
              "<Figure size 800x600 with 1 Axes>"
            ],
            "image/png": "[encoded data removed]"
          },
          "metadata": {}
        }
      ]
    }
  ]
}