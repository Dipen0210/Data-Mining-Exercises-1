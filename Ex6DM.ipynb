{
  "nbformat": 4,
  "nbformat_minor": 0,
  "metadata": {
    "colab": {
      "provenance": []
    },
    "kernelspec": {
      "name": "python3",
      "display_name": "Python 3"
    },
    "language_info": {
      "name": "python"
    }
  },
  "cells": [
    {
      "cell_type": "markdown",
      "source": [
        "Question: 6"
      ],
      "metadata": {
        "id": "9ac2qUrfuKCY"
      }
    },
    {
      "cell_type": "markdown",
      "source": [
        "Importing libraries here only.\n"
      ],
      "metadata": {
        "id": "9kJMP6b6rro8"
      }
    },
    {
      "cell_type": "code",
      "source": [
        "import pandas as pd\n",
        "import numpy as np\n",
        "from sklearn.model_selection import train_test_split\n",
        "from sklearn.linear_model import LinearRegression\n",
        "from sklearn.metrics import mean_squared_error\n",
        "from sklearn.linear_model import RidgeCV\n",
        "from sklearn.linear_model import LassoCV\n",
        "from sklearn.decomposition import PCA\n",
        "from sklearn.model_selection import cross_val_score\n",
        "from sklearn.cross_decomposition import PLSRegression\n",
        "import matplotlib.pyplot as plt"
      ],
      "metadata": {
        "id": "qACHDBlGrYLo"
      },
      "execution_count": 37,
      "outputs": []
    },
    {
      "cell_type": "markdown",
      "source": [
        "(a) Split the data set into a training set and a test set.\n",
        "\n",
        "set first column as unnamed column.\n",
        "\n",
        "done one hot encoding.\n",
        "\n",
        "dropped columns with null values\n",
        "\n",
        "removed dots from the columns.\n"
      ],
      "metadata": {
        "id": "UiDHVnaRuIvm"
      }
    },
    {
      "cell_type": "code",
      "source": [
        "file_path = '/content/drive/MyDrive/dataDM/College.csv'\n",
        "df = pd.read_csv(file_path)\n",
        "\n",
        "df = df.set_index(['Unnamed: 0'])\n",
        "\n",
        "df['Private'] = pd.get_dummies(df['Private'], drop_first=True)\n",
        "\n",
        "df = df.apply(pd.to_numeric, errors='ignore')\n",
        "\n",
        "df = df.dropna(axis=1, how='all')\n",
        "\n",
        "df = df.rename(columns={\"Grad.Rate\": \"Grad_Rate\", \"Room.Board\": \"Room_Board\", \"F.Undergrad\": \"F_Undergrad\", \"P.Undergrad\": \"P_Undergrad\",\n",
        "                        \"S.F.Ratio\": \"S_F_Ratio\", \"perc.alumni\": \"perc_alumni\"})\n",
        "\n",
        "X = df.drop(['Apps'], axis=1)\n",
        "y = df['Apps']\n",
        "\n",
        "# Spliting data into training set (60%) and test set (40%)\n",
        "X_train, X_test, y_train, y_test = train_test_split(X, y, test_size=0.4, random_state=42)\n",
        "\n",
        "print(\"Training set:\", X_train.shape)\n",
        "print(\"Test set:\", X_test.shape)\n",
        "\n",
        "X_train.head()\n"
      ],
      "metadata": {
        "colab": {
          "base_uri": "https://localhost:8080/",
          "height": 485
        },
        "id": "GMS4jSC92YmW",
        "outputId": "73a86ba7-f9d9-4109-d543-d32bd53c4753"
      },
      "execution_count": 38,
      "outputs": [
        {
          "output_type": "stream",
          "name": "stdout",
          "text": [
            "Training set: (466, 17)\n",
            "Test set: (311, 17)\n"
          ]
        },
        {
          "output_type": "stream",
          "name": "stderr",
          "text": [
            "<ipython-input-38-6cf4f6fb8c9a>:8: FutureWarning: errors='ignore' is deprecated and will raise in a future version. Use to_numeric without passing `errors` and catch exceptions explicitly instead\n",
            "  df = df.apply(pd.to_numeric, errors='ignore')\n"
          ]
        },
        {
          "output_type": "execute_result",
          "data": {
            "text/plain": [
              "                                    Private  Accept  Enroll  Top10perc  \\\n",
              "Unnamed: 0                                                               \n",
              "University of California at Irvine    False   10775    2478         85   \n",
              "Livingstone College                    True     473     217         22   \n",
              "Polytechnic University                 True     847     302         58   \n",
              "Mount Saint Mary College               True     695     238         14   \n",
              "Maryville College                      True     888     176         26   \n",
              "\n",
              "                                    Top25perc  F_Undergrad  P_Undergrad  \\\n",
              "Unnamed: 0                                                                \n",
              "University of California at Irvine        100        12677          864   \n",
              "Livingstone College                        47          621           11   \n",
              "Polytechnic University                     89         1379          214   \n",
              "Mount Saint Mary College                   48         1170          429   \n",
              "Maryville College                          52          624          128   \n",
              "\n",
              "                                    Outstate  Room_Board  Books  Personal  \\\n",
              "Unnamed: 0                                                                  \n",
              "University of California at Irvine     12024        5302    790      1818   \n",
              "Livingstone College                     4400        3400    800       900   \n",
              "Polytechnic University                 16200        4200    436      2486   \n",
              "Mount Saint Mary College                7470        4600    250      1400   \n",
              "Maryville College                      11200        4208    500      1642   \n",
              "\n",
              "                                    PhD  Terminal  S_F_Ratio  perc_alumni  \\\n",
              "Unnamed: 0                                                                  \n",
              "University of California at Irvine   96        96       16.1           11   \n",
              "Livingstone College                  53        93       10.4           16   \n",
              "Polytechnic University               90        90       10.4           14   \n",
              "Mount Saint Mary College             74        75       15.3           23   \n",
              "Maryville College                    80        90       11.1           43   \n",
              "\n",
              "                                    Expend  Grad_Rate  \n",
              "Unnamed: 0                                             \n",
              "University of California at Irvine   15934         66  \n",
              "Livingstone College                   9268         92  \n",
              "Polytechnic University               14329         62  \n",
              "Mount Saint Mary College              6898         88  \n",
              "Maryville College                     8317         51  "
            ],
            "text/html": [
              "\n",
              "  <div id=\"df-4db860ba-e0aa-4a08-95e6-2a30d75607fd\" class=\"colab-df-container\">\n",
              "    <div>\n",
              "<style scoped>\n",
              "    .dataframe tbody tr th:only-of-type {\n",
              "        vertical-align: middle;\n",
              "    }\n",
              "\n",
              "    .dataframe tbody tr th {\n",
              "        vertical-align: top;\n",
              "    }\n",
              "\n",
              "    .dataframe thead th {\n",
              "        text-align: right;\n",
              "    }\n",
              "</style>\n",
              "<table border=\"1\" class=\"dataframe\">\n",
              "  <thead>\n",
              "    <tr style=\"text-align: right;\">\n",
              "      <th></th>\n",
              "      <th>Private</th>\n",
              "      <th>Accept</th>\n",
              "      <th>Enroll</th>\n",
              "      <th>Top10perc</th>\n",
              "      <th>Top25perc</th>\n",
              "      <th>F_Undergrad</th>\n",
              "      <th>P_Undergrad</th>\n",
              "      <th>Outstate</th>\n",
              "      <th>Room_Board</th>\n",
              "      <th>Books</th>\n",
              "      <th>Personal</th>\n",
              "      <th>PhD</th>\n",
              "      <th>Terminal</th>\n",
              "      <th>S_F_Ratio</th>\n",
              "      <th>perc_alumni</th>\n",
              "      <th>Expend</th>\n",
              "      <th>Grad_Rate</th>\n",
              "    </tr>\n",
              "    <tr>\n",
              "      <th>Unnamed: 0</th>\n",
              "      <th></th>\n",
              "      <th></th>\n",
              "      <th></th>\n",
              "      <th></th>\n",
              "      <th></th>\n",
              "      <th></th>\n",
              "      <th></th>\n",
              "      <th></th>\n",
              "      <th></th>\n",
              "      <th></th>\n",
              "      <th></th>\n",
              "      <th></th>\n",
              "      <th></th>\n",
              "      <th></th>\n",
              "      <th></th>\n",
              "      <th></th>\n",
              "      <th></th>\n",
              "    </tr>\n",
              "  </thead>\n",
              "  <tbody>\n",
              "    <tr>\n",
              "      <th>University of California at Irvine</th>\n",
              "      <td>False</td>\n",
              "      <td>10775</td>\n",
              "      <td>2478</td>\n",
              "      <td>85</td>\n",
              "      <td>100</td>\n",
              "      <td>12677</td>\n",
              "      <td>864</td>\n",
              "      <td>12024</td>\n",
              "      <td>5302</td>\n",
              "      <td>790</td>\n",
              "      <td>1818</td>\n",
              "      <td>96</td>\n",
              "      <td>96</td>\n",
              "      <td>16.1</td>\n",
              "      <td>11</td>\n",
              "      <td>15934</td>\n",
              "      <td>66</td>\n",
              "    </tr>\n",
              "    <tr>\n",
              "      <th>Livingstone College</th>\n",
              "      <td>True</td>\n",
              "      <td>473</td>\n",
              "      <td>217</td>\n",
              "      <td>22</td>\n",
              "      <td>47</td>\n",
              "      <td>621</td>\n",
              "      <td>11</td>\n",
              "      <td>4400</td>\n",
              "      <td>3400</td>\n",
              "      <td>800</td>\n",
              "      <td>900</td>\n",
              "      <td>53</td>\n",
              "      <td>93</td>\n",
              "      <td>10.4</td>\n",
              "      <td>16</td>\n",
              "      <td>9268</td>\n",
              "      <td>92</td>\n",
              "    </tr>\n",
              "    <tr>\n",
              "      <th>Polytechnic University</th>\n",
              "      <td>True</td>\n",
              "      <td>847</td>\n",
              "      <td>302</td>\n",
              "      <td>58</td>\n",
              "      <td>89</td>\n",
              "      <td>1379</td>\n",
              "      <td>214</td>\n",
              "      <td>16200</td>\n",
              "      <td>4200</td>\n",
              "      <td>436</td>\n",
              "      <td>2486</td>\n",
              "      <td>90</td>\n",
              "      <td>90</td>\n",
              "      <td>10.4</td>\n",
              "      <td>14</td>\n",
              "      <td>14329</td>\n",
              "      <td>62</td>\n",
              "    </tr>\n",
              "    <tr>\n",
              "      <th>Mount Saint Mary College</th>\n",
              "      <td>True</td>\n",
              "      <td>695</td>\n",
              "      <td>238</td>\n",
              "      <td>14</td>\n",
              "      <td>48</td>\n",
              "      <td>1170</td>\n",
              "      <td>429</td>\n",
              "      <td>7470</td>\n",
              "      <td>4600</td>\n",
              "      <td>250</td>\n",
              "      <td>1400</td>\n",
              "      <td>74</td>\n",
              "      <td>75</td>\n",
              "      <td>15.3</td>\n",
              "      <td>23</td>\n",
              "      <td>6898</td>\n",
              "      <td>88</td>\n",
              "    </tr>\n",
              "    <tr>\n",
              "      <th>Maryville College</th>\n",
              "      <td>True</td>\n",
              "      <td>888</td>\n",
              "      <td>176</td>\n",
              "      <td>26</td>\n",
              "      <td>52</td>\n",
              "      <td>624</td>\n",
              "      <td>128</td>\n",
              "      <td>11200</td>\n",
              "      <td>4208</td>\n",
              "      <td>500</td>\n",
              "      <td>1642</td>\n",
              "      <td>80</td>\n",
              "      <td>90</td>\n",
              "      <td>11.1</td>\n",
              "      <td>43</td>\n",
              "      <td>8317</td>\n",
              "      <td>51</td>\n",
              "    </tr>\n",
              "  </tbody>\n",
              "</table>\n",
              "</div>\n",
              "    <div class=\"colab-df-buttons\">\n",
              "\n",
              "  <div class=\"colab-df-container\">\n",
              "    <button class=\"colab-df-convert\" onclick=\"convertToInteractive('df-4db860ba-e0aa-4a08-95e6-2a30d75607fd')\"\n",
              "            title=\"Convert this dataframe to an interactive table.\"\n",
              "            style=\"display:none;\">\n",
              "\n",
              "  <svg xmlns=\"http://www.w3.org/2000/svg\" height=\"24px\" viewBox=\"0 -960 960 960\">\n",
              "    <path d=\"M120-120v-720h720v720H120Zm60-500h600v-160H180v160Zm220 220h160v-160H400v160Zm0 220h160v-160H400v160ZM180-400h160v-160H180v160Zm440 0h160v-160H620v160ZM180-180h160v-160H180v160Zm440 0h160v-160H620v160Z\"/>\n",
              "  </svg>\n",
              "    </button>\n",
              "\n",
              "  <style>\n",
              "    .colab-df-container {\n",
              "      display:flex;\n",
              "      gap: 12px;\n",
              "    }\n",
              "\n",
              "    .colab-df-convert {\n",
              "      background-color: #E8F0FE;\n",
              "      border: none;\n",
              "      border-radius: 50%;\n",
              "      cursor: pointer;\n",
              "      display: none;\n",
              "      fill: #1967D2;\n",
              "      height: 32px;\n",
              "      padding: 0 0 0 0;\n",
              "      width: 32px;\n",
              "    }\n",
              "\n",
              "    .colab-df-convert:hover {\n",
              "      background-color: #E2EBFA;\n",
              "      box-shadow: 0px 1px 2px rgba(60, 64, 67, 0.3), 0px 1px 3px 1px rgba(60, 64, 67, 0.15);\n",
              "      fill: #174EA6;\n",
              "    }\n",
              "\n",
              "    .colab-df-buttons div {\n",
              "      margin-bottom: 4px;\n",
              "    }\n",
              "\n",
              "    [theme=dark] .colab-df-convert {\n",
              "      background-color: #3B4455;\n",
              "      fill: #D2E3FC;\n",
              "    }\n",
              "\n",
              "    [theme=dark] .colab-df-convert:hover {\n",
              "      background-color: #434B5C;\n",
              "      box-shadow: 0px 1px 3px 1px rgba(0, 0, 0, 0.15);\n",
              "      filter: drop-shadow(0px 1px 2px rgba(0, 0, 0, 0.3));\n",
              "      fill: #FFFFFF;\n",
              "    }\n",
              "  </style>\n",
              "\n",
              "    <script>\n",
              "      const buttonEl =\n",
              "        document.querySelector('#df-4db860ba-e0aa-4a08-95e6-2a30d75607fd button.colab-df-convert');\n",
              "      buttonEl.style.display =\n",
              "        google.colab.kernel.accessAllowed ? 'block' : 'none';\n",
              "\n",
              "      async function convertToInteractive(key) {\n",
              "        const element = document.querySelector('#df-4db860ba-e0aa-4a08-95e6-2a30d75607fd');\n",
              "        const dataTable =\n",
              "          await google.colab.kernel.invokeFunction('convertToInteractive',\n",
              "                                                    [key], {});\n",
              "        if (!dataTable) return;\n",
              "\n",
              "        const docLinkHtml = 'Like what you see? Visit the ' +\n",
              "          '<a target=\"_blank\" href=https://colab.research.google.com/notebooks/data_table.ipynb>data table notebook</a>'\n",
              "          + ' to learn more about interactive tables.';\n",
              "        element.innerHTML = '';\n",
              "        dataTable['output_type'] = 'display_data';\n",
              "        await google.colab.output.renderOutput(dataTable, element);\n",
              "        const docLink = document.createElement('div');\n",
              "        docLink.innerHTML = docLinkHtml;\n",
              "        element.appendChild(docLink);\n",
              "      }\n",
              "    </script>\n",
              "  </div>\n",
              "\n",
              "\n",
              "<div id=\"df-a5a56ee5-ae54-4d28-a07b-5aa806ba8930\">\n",
              "  <button class=\"colab-df-quickchart\" onclick=\"quickchart('df-a5a56ee5-ae54-4d28-a07b-5aa806ba8930')\"\n",
              "            title=\"Suggest charts\"\n",
              "            style=\"display:none;\">\n",
              "\n",
              "<svg xmlns=\"http://www.w3.org/2000/svg\" height=\"24px\"viewBox=\"0 0 24 24\"\n",
              "     width=\"24px\">\n",
              "    <g>\n",
              "        <path d=\"M19 3H5c-1.1 0-2 .9-2 2v14c0 1.1.9 2 2 2h14c1.1 0 2-.9 2-2V5c0-1.1-.9-2-2-2zM9 17H7v-7h2v7zm4 0h-2V7h2v10zm4 0h-2v-4h2v4z\"/>\n",
              "    </g>\n",
              "</svg>\n",
              "  </button>\n",
              "\n",
              "<style>\n",
              "  .colab-df-quickchart {\n",
              "      --bg-color: #E8F0FE;\n",
              "      --fill-color: #1967D2;\n",
              "      --hover-bg-color: #E2EBFA;\n",
              "      --hover-fill-color: #174EA6;\n",
              "      --disabled-fill-color: #AAA;\n",
              "      --disabled-bg-color: #DDD;\n",
              "  }\n",
              "\n",
              "  [theme=dark] .colab-df-quickchart {\n",
              "      --bg-color: #3B4455;\n",
              "      --fill-color: #D2E3FC;\n",
              "      --hover-bg-color: #434B5C;\n",
              "      --hover-fill-color: #FFFFFF;\n",
              "      --disabled-bg-color: #3B4455;\n",
              "      --disabled-fill-color: #666;\n",
              "  }\n",
              "\n",
              "  .colab-df-quickchart {\n",
              "    background-color: var(--bg-color);\n",
              "    border: none;\n",
              "    border-radius: 50%;\n",
              "    cursor: pointer;\n",
              "    display: none;\n",
              "    fill: var(--fill-color);\n",
              "    height: 32px;\n",
              "    padding: 0;\n",
              "    width: 32px;\n",
              "  }\n",
              "\n",
              "  .colab-df-quickchart:hover {\n",
              "    background-color: var(--hover-bg-color);\n",
              "    box-shadow: 0 1px 2px rgba(60, 64, 67, 0.3), 0 1px 3px 1px rgba(60, 64, 67, 0.15);\n",
              "    fill: var(--button-hover-fill-color);\n",
              "  }\n",
              "\n",
              "  .colab-df-quickchart-complete:disabled,\n",
              "  .colab-df-quickchart-complete:disabled:hover {\n",
              "    background-color: var(--disabled-bg-color);\n",
              "    fill: var(--disabled-fill-color);\n",
              "    box-shadow: none;\n",
              "  }\n",
              "\n",
              "  .colab-df-spinner {\n",
              "    border: 2px solid var(--fill-color);\n",
              "    border-color: transparent;\n",
              "    border-bottom-color: var(--fill-color);\n",
              "    animation:\n",
              "      spin 1s steps(1) infinite;\n",
              "  }\n",
              "\n",
              "  @keyframes spin {\n",
              "    0% {\n",
              "      border-color: transparent;\n",
              "      border-bottom-color: var(--fill-color);\n",
              "      border-left-color: var(--fill-color);\n",
              "    }\n",
              "    20% {\n",
              "      border-color: transparent;\n",
              "      border-left-color: var(--fill-color);\n",
              "      border-top-color: var(--fill-color);\n",
              "    }\n",
              "    30% {\n",
              "      border-color: transparent;\n",
              "      border-left-color: var(--fill-color);\n",
              "      border-top-color: var(--fill-color);\n",
              "      border-right-color: var(--fill-color);\n",
              "    }\n",
              "    40% {\n",
              "      border-color: transparent;\n",
              "      border-right-color: var(--fill-color);\n",
              "      border-top-color: var(--fill-color);\n",
              "    }\n",
              "    60% {\n",
              "      border-color: transparent;\n",
              "      border-right-color: var(--fill-color);\n",
              "    }\n",
              "    80% {\n",
              "      border-color: transparent;\n",
              "      border-right-color: var(--fill-color);\n",
              "      border-bottom-color: var(--fill-color);\n",
              "    }\n",
              "    90% {\n",
              "      border-color: transparent;\n",
              "      border-bottom-color: var(--fill-color);\n",
              "    }\n",
              "  }\n",
              "</style>\n",
              "\n",
              "  <script>\n",
              "    async function quickchart(key) {\n",
              "      const quickchartButtonEl =\n",
              "        document.querySelector('#' + key + ' button');\n",
              "      quickchartButtonEl.disabled = true;  // To prevent multiple clicks.\n",
              "      quickchartButtonEl.classList.add('colab-df-spinner');\n",
              "      try {\n",
              "        const charts = await google.colab.kernel.invokeFunction(\n",
              "            'suggestCharts', [key], {});\n",
              "      } catch (error) {\n",
              "        console.error('Error during call to suggestCharts:', error);\n",
              "      }\n",
              "      quickchartButtonEl.classList.remove('colab-df-spinner');\n",
              "      quickchartButtonEl.classList.add('colab-df-quickchart-complete');\n",
              "    }\n",
              "    (() => {\n",
              "      let quickchartButtonEl =\n",
              "        document.querySelector('#df-a5a56ee5-ae54-4d28-a07b-5aa806ba8930 button');\n",
              "      quickchartButtonEl.style.display =\n",
              "        google.colab.kernel.accessAllowed ? 'block' : 'none';\n",
              "    })();\n",
              "  </script>\n",
              "</div>\n",
              "\n",
              "    </div>\n",
              "  </div>\n"
            ],
            "application/vnd.google.colaboratory.intrinsic+json": {
              "type": "dataframe",
              "variable_name": "X_train",
              "summary": "{\n  \"name\": \"X_train\",\n  \"rows\": 466,\n  \"fields\": [\n    {\n      \"column\": \"Unnamed: 0\",\n      \"properties\": {\n        \"dtype\": \"string\",\n        \"num_unique_values\": 466,\n        \"samples\": [\n          \"Linfield College\",\n          \"Illinois Institute of Technology\",\n          \"Immaculata College\"\n        ],\n        \"semantic_type\": \"\",\n        \"description\": \"\"\n      }\n    },\n    {\n      \"column\": \"Private\",\n      \"properties\": {\n        \"dtype\": \"boolean\",\n        \"num_unique_values\": 2,\n        \"samples\": [\n          true,\n          false\n        ],\n        \"semantic_type\": \"\",\n        \"description\": \"\"\n      }\n    },\n    {\n      \"column\": \"Accept\",\n      \"properties\": {\n        \"dtype\": \"number\",\n        \"std\": 2641,\n        \"min\": 90,\n        \"max\": 26330,\n        \"num_unique_values\": 435,\n        \"samples\": [\n          1088,\n          280\n        ],\n        \"semantic_type\": \"\",\n        \"description\": \"\"\n      }\n    },\n    {\n      \"column\": \"Enroll\",\n      \"properties\": {\n        \"dtype\": \"number\",\n        \"std\": 902,\n        \"min\": 35,\n        \"max\": 6180,\n        \"num_unique_values\": 383,\n        \"samples\": [\n          489,\n          504\n        ],\n        \"semantic_type\": \"\",\n        \"description\": \"\"\n      }\n    },\n    {\n      \"column\": \"Top10perc\",\n      \"properties\": {\n        \"dtype\": \"number\",\n        \"std\": 17,\n        \"min\": 1,\n        \"max\": 96,\n        \"num_unique_values\": 74,\n        \"samples\": [\n          26,\n          53\n        ],\n        \"semantic_type\": \"\",\n        \"description\": \"\"\n      }\n    },\n    {\n      \"column\": \"Top25perc\",\n      \"properties\": {\n        \"dtype\": \"number\",\n        \"std\": 19,\n        \"min\": 13,\n        \"max\": 100,\n        \"num_unique_values\": 83,\n        \"samples\": [\n          18,\n          100\n        ],\n        \"semantic_type\": \"\",\n        \"description\": \"\"\n      }\n    },\n    {\n      \"column\": \"F_Undergrad\",\n      \"properties\": {\n        \"dtype\": \"number\",\n        \"std\": 4563,\n        \"min\": 249,\n        \"max\": 26640,\n        \"num_unique_values\": 444,\n        \"samples\": [\n          1687,\n          959\n        ],\n        \"semantic_type\": \"\",\n        \"description\": \"\"\n      }\n    },\n    {\n      \"column\": \"P_Undergrad\",\n      \"properties\": {\n        \"dtype\": \"number\",\n        \"std\": 1328,\n        \"min\": 2,\n        \"max\": 10221,\n        \"num_unique_values\": 374,\n        \"samples\": [\n          3982,\n          53\n        ],\n        \"semantic_type\": \"\",\n        \"description\": \"\"\n      }\n    },\n    {\n      \"column\": \"Outstate\",\n      \"properties\": {\n        \"dtype\": \"number\",\n        \"std\": 4107,\n        \"min\": 2580,\n        \"max\": 21700,\n        \"num_unique_values\": 408,\n        \"samples\": [\n          9990,\n          9160\n        ],\n        \"semantic_type\": \"\",\n        \"description\": \"\"\n      }\n    },\n    {\n      \"column\": \"Room_Board\",\n      \"properties\": {\n        \"dtype\": \"number\",\n        \"std\": 1107,\n        \"min\": 1880,\n        \"max\": 8124,\n        \"num_unique_values\": 371,\n        \"samples\": [\n          4190,\n          4530\n        ],\n        \"semantic_type\": \"\",\n        \"description\": \"\"\n      }\n    },\n    {\n      \"column\": \"Books\",\n      \"properties\": {\n        \"dtype\": \"number\",\n        \"std\": 157,\n        \"min\": 96,\n        \"max\": 2340,\n        \"num_unique_values\": 84,\n        \"samples\": [\n          537,\n          790\n        ],\n        \"semantic_type\": \"\",\n        \"description\": \"\"\n      }\n    },\n    {\n      \"column\": \"Personal\",\n      \"properties\": {\n        \"dtype\": \"number\",\n        \"std\": 666,\n        \"min\": 250,\n        \"max\": 4288,\n        \"num_unique_values\": 197,\n        \"samples\": [\n          4200,\n          2430\n        ],\n        \"semantic_type\": \"\",\n        \"description\": \"\"\n      }\n    },\n    {\n      \"column\": \"PhD\",\n      \"properties\": {\n        \"dtype\": \"number\",\n        \"std\": 16,\n        \"min\": 8,\n        \"max\": 100,\n        \"num_unique_values\": 70,\n        \"samples\": [\n          81,\n          96\n        ],\n        \"semantic_type\": \"\",\n        \"description\": \"\"\n      }\n    },\n    {\n      \"column\": \"Terminal\",\n      \"properties\": {\n        \"dtype\": \"number\",\n        \"std\": 14,\n        \"min\": 24,\n        \"max\": 100,\n        \"num_unique_values\": 62,\n        \"samples\": [\n          66,\n          50\n        ],\n        \"semantic_type\": \"\",\n        \"description\": \"\"\n      }\n    },\n    {\n      \"column\": \"S_F_Ratio\",\n      \"properties\": {\n        \"dtype\": \"number\",\n        \"std\": 3.8839573794015902,\n        \"min\": 2.5,\n        \"max\": 28.8,\n        \"num_unique_values\": 156,\n        \"samples\": [\n          9.3,\n          20.2\n        ],\n        \"semantic_type\": \"\",\n        \"description\": \"\"\n      }\n    },\n    {\n      \"column\": \"perc_alumni\",\n      \"properties\": {\n        \"dtype\": \"number\",\n        \"std\": 12,\n        \"min\": 0,\n        \"max\": 63,\n        \"num_unique_values\": 57,\n        \"samples\": [\n          11,\n          15\n        ],\n        \"semantic_type\": \"\",\n        \"description\": \"\"\n      }\n    },\n    {\n      \"column\": \"Expend\",\n      \"properties\": {\n        \"dtype\": \"number\",\n        \"std\": 5336,\n        \"min\": 3186,\n        \"max\": 56233,\n        \"num_unique_values\": 455,\n        \"samples\": [\n          6773,\n          6971\n        ],\n        \"semantic_type\": \"\",\n        \"description\": \"\"\n      }\n    },\n    {\n      \"column\": \"Grad_Rate\",\n      \"properties\": {\n        \"dtype\": \"number\",\n        \"std\": 17,\n        \"min\": 10,\n        \"max\": 118,\n        \"num_unique_values\": 77,\n        \"samples\": [\n          51,\n          76\n        ],\n        \"semantic_type\": \"\",\n        \"description\": \"\"\n      }\n    }\n  ]\n}"
            }
          },
          "metadata": {},
          "execution_count": 38
        }
      ]
    },
    {
      "cell_type": "markdown",
      "source": [
        "(b) Fit a linear model using least squares on the training set, and report the test error obtained. - Linear regression"
      ],
      "metadata": {
        "id": "D4VfthPNuBia"
      }
    },
    {
      "cell_type": "code",
      "source": [
        "lm = LinearRegression()\n",
        "lm.fit(X_train, y_train)\n",
        "y_pred = lm.predict(X_test)\n",
        "test_mse_lm = mean_squared_error(y_test, y_pred)\n",
        "\n",
        "# Test MSE of Linear regression modedl results\n",
        "print(\"Test MSE(LR):\", test_mse_lm)\n"
      ],
      "metadata": {
        "colab": {
          "base_uri": "https://localhost:8080/"
        },
        "id": "XiIjJBol7IU5",
        "outputId": "c0d85472-0db5-424a-c8dc-0a1504f461b8"
      },
      "execution_count": 39,
      "outputs": [
        {
          "output_type": "stream",
          "name": "stdout",
          "text": [
            "Test MSE(LR): 1704507.9548241352\n"
          ]
        }
      ]
    },
    {
      "cell_type": "markdown",
      "source": [
        "(c) Fit a ridge regression model on the training set, with λ chosen by cross-validation. Report the test error obtained."
      ],
      "metadata": {
        "id": "bP5P6EAvtYud"
      }
    },
    {
      "cell_type": "code",
      "source": [
        "ridge_cv = RidgeCV(alphas=np.logspace(-6, 6, 13), store_cv_values=True)\n",
        "\n",
        "ridge_cv.fit(X_train, y_train)\n",
        "\n",
        "best_alpha = ridge_cv.alpha_\n",
        "\n",
        "y_pred_ridge = ridge_cv.predict(X_test)\n",
        "\n",
        "test_mse_ridge = mean_squared_error(y_test, y_pred_ridge)\n",
        "\n",
        "# Test MSE of Ridge regression model results\n",
        "print(\"Best lambda chosen by cross- validation technique:\", best_alpha)\n",
        "print(\"Test MSE of Ridge regression:\", test_mse_ridge)"
      ],
      "metadata": {
        "colab": {
          "base_uri": "https://localhost:8080/"
        },
        "id": "TYklEqia9cNV",
        "outputId": "31ace9a4-1d2f-41d0-9ca9-fadbea6a951f"
      },
      "execution_count": 40,
      "outputs": [
        {
          "output_type": "stream",
          "name": "stdout",
          "text": [
            "Best lambda chosen by cross- validation technique: 1.0\n",
            "Test MSE of Ridge regression: 1703059.2906341383\n"
          ]
        },
        {
          "output_type": "stream",
          "name": "stderr",
          "text": [
            "/usr/local/lib/python3.11/dist-packages/sklearn/linear_model/_ridge.py:2385: FutureWarning: 'store_cv_values' is deprecated in version 1.5 and will be removed in 1.7. Use 'store_cv_results' instead.\n",
            "  warnings.warn(\n"
          ]
        }
      ]
    },
    {
      "cell_type": "markdown",
      "source": [
        "(d) Fit a lasso model on the training set, with λ chosen by cross-validation. Report the test error obtained, along with the number of non-zero coefficient estimates."
      ],
      "metadata": {
        "id": "H6E9PzWataw1"
      }
    },
    {
      "cell_type": "code",
      "source": [
        "lasso_cv = LassoCV(alphas=np.logspace(-6, 6, 13), cv=5)\n",
        "\n",
        "lasso_cv.fit(X_train, y_train)\n",
        "\n",
        "best_alpha_lasso = lasso_cv.alpha_\n",
        "\n",
        "y_pred_lasso = lasso_cv.predict(X_test)\n",
        "\n",
        "test_mse_lasso = mean_squared_error(y_test, y_pred_lasso)\n",
        "\n",
        "non_zero_cof = np.sum(lasso_cv.coef_ != 0)\n",
        "\n",
        "# Lasso regression model results\n",
        "print(\"Best lambda chosen by cross-validation technique:\", best_alpha_lasso)\n",
        "print(\"Test MSE of Lasso regression:\", test_mse_lasso)\n",
        "print(\"Number of non-zero coefficients:\", non_zero_cof)\n"
      ],
      "metadata": {
        "colab": {
          "base_uri": "https://localhost:8080/"
        },
        "id": "HNz7of5xCSXr",
        "outputId": "5e878ab7-f645-462a-d3ec-924fa005f09c"
      },
      "execution_count": 41,
      "outputs": [
        {
          "output_type": "stream",
          "name": "stdout",
          "text": [
            "Best lambda chosen by cross-validation technique: 1e-06\n",
            "Test MSE of Lasso regression: 1704507.9539084039\n",
            "Number of non-zero coefficients: 17\n"
          ]
        }
      ]
    },
    {
      "cell_type": "markdown",
      "source": [
        "(e) Fit a PCR model on the training set, with M chosen by crossvalidation. Report the test error obtained, along with the value of M selected by cross-validation.\n",
        "\n",
        "steps:\n",
        "\n",
        "max components should not be larger than features.\n",
        "\n",
        "Store MSE values for each value of M.\n",
        "\n",
        "try different numbers of components(M)\n",
        "\n",
        "Perform PCA with m components\n",
        "\n",
        "Fit linear regression model on the PCA-transformed data\n",
        "\n",
        "Predict test data and Calculate MSE test data\n",
        "\n",
        "Track the best M which has lowest MSE, Fit PCR model and select the best M\n"
      ],
      "metadata": {
        "id": "ngDXGRSTtgqf"
      }
    },
    {
      "cell_type": "code",
      "source": [
        "def fit_pcr(X_train, y_train, X_test, y_test, max_comnts=None):\n",
        "\n",
        "    if max_comnts is None:\n",
        "        max_comnts = X_train.shape[1]\n",
        "\n",
        "    max_comnts = min(max_comnts, X_train.shape[1])\n",
        "\n",
        "    mses = []\n",
        "    best_m = 0\n",
        "\n",
        "    for m in range(1, max_comnts+1):\n",
        "        pca = PCA(n_components=m)\n",
        "        X_train_pca = pca.fit_transform(X_train)\n",
        "        X_test_pca = pca.transform(X_test)\n",
        "\n",
        "        lm = LinearRegression()\n",
        "        lm.fit(X_train_pca, y_train)\n",
        "\n",
        "        y_pred = lm.predict(X_test_pca)\n",
        "\n",
        "        test_mse = mean_squared_error(y_test, y_pred)\n",
        "        mses.append(test_mse)\n",
        "\n",
        "        if best_m == 0 or test_mse < min(mses):\n",
        "            best_m = m\n",
        "\n",
        "    return best_m, mses[best_m-1]\n",
        "\n",
        "best_m, test_mse_pcr = fit_pcr(X_train, y_train, X_test, y_test)\n",
        "\n",
        "print(f\"Best M selected by cross-validation: {best_m}\")\n",
        "print(f\"Test MSE(PCR): {test_mse_pcr}\")\n"
      ],
      "metadata": {
        "colab": {
          "base_uri": "https://localhost:8080/"
        },
        "id": "Hf_58FRFCeFo",
        "outputId": "b9bb0609-9b52-4754-bd74-5c6a49574a92"
      },
      "execution_count": 42,
      "outputs": [
        {
          "output_type": "stream",
          "name": "stdout",
          "text": [
            "Best M selected by cross-validation: 1\n",
            "Test MSE(PCR): 12711767.215306932\n"
          ]
        }
      ]
    },
    {
      "cell_type": "markdown",
      "source": [
        "\n",
        "(f) Fit a PLS model on the training set, with M chosen by crossvalidation. Report the test error obtained, along with the value of M selected by cross-validation.\n",
        "\n",
        "steps:\n",
        "\n",
        "max components should not be larger than features.\n",
        "\n",
        "Store MSE values for each value of M.\n",
        "\n",
        "try different numbers of components(M)\n",
        "\n",
        "Perform PLS with m components\n",
        "\n",
        "Predict test data and Calculate MSE test data\n",
        "\n",
        "Track the best M which has lowest MSE, Fit PLS model and select the best M\n",
        "\n",
        "\n",
        "\n",
        "\n"
      ],
      "metadata": {
        "id": "45PKuo_ktmlz"
      }
    },
    {
      "cell_type": "code",
      "source": [
        "def fit_pls(X_train, y_train, X_test, y_test, max_comnts=None):\n",
        "    if max_comnts is None:\n",
        "        max_comnts = X_train.shape[1]\n",
        "\n",
        "    max_comnts = min(max_comnts, X_train.shape[1])\n",
        "\n",
        "    mses = []\n",
        "    best_m = 0\n",
        "\n",
        "    for m in range(1, max_comnts + 1):\n",
        "        pls = PLSRegression(n_components=m)\n",
        "        pls.fit(X_train, y_train)\n",
        "\n",
        "        y_pred = pls.predict(X_test)\n",
        "\n",
        "        test_mse = mean_squared_error(y_test, y_pred)\n",
        "        mses.append(test_mse)\n",
        "\n",
        "        if best_m == 0 or test_mse < min(mses):\n",
        "            best_m = m\n",
        "\n",
        "    return best_m, mses[best_m - 1]\n",
        "\n",
        "best_m, test_mse_pls = fit_pls(X_train, y_train, X_test, y_test)\n",
        "\n",
        "print(f\"Best M selected by cross-validation: {best_m}\")\n",
        "print(f\"Test MSE(PLS): {test_mse_pls}\")\n"
      ],
      "metadata": {
        "colab": {
          "base_uri": "https://localhost:8080/"
        },
        "id": "S6mxV5rpC17b",
        "outputId": "b2267f5c-a573-43aa-8054-5131cc5d6a7e"
      },
      "execution_count": 43,
      "outputs": [
        {
          "output_type": "stream",
          "name": "stdout",
          "text": [
            "Best M selected by cross-validation: 1\n",
            "Test MSE(PLS): 2635313.1837947797\n"
          ]
        }
      ]
    },
    {
      "cell_type": "markdown",
      "source": [
        "Results:\n",
        "\n",
        "comparison of each method's output\n",
        "\n"
      ],
      "metadata": {
        "id": "fcdchlu5DbVd"
      }
    },
    {
      "cell_type": "code",
      "source": [
        "model_names = ['Linear Regression', 'Ridge Regression', 'Lasso Regression', 'PCR', 'PLS']\n",
        "test_mse_values = [test_mse_lm, test_mse_ridge, test_mse_lasso, test_mse_pcr, test_mse_pls]\n",
        "\n",
        "plt.figure(figsize=(10, 6))\n",
        "plt.bar(model_names, test_mse_values, color=['blue', 'green', 'red', 'pink', 'yellow'])\n",
        "plt.xlabel('Models')\n",
        "plt.ylabel('Test MSE')\n",
        "plt.title('Comparison of Test MSE for different Models')\n",
        "plt.show()\n"
      ],
      "metadata": {
        "colab": {
          "base_uri": "https://localhost:8080/",
          "height": 564
        },
        "id": "_b8GYqfkDkhp",
        "outputId": "dde67556-dce7-42cb-cc51-2d6a4d1ff790"
      },
      "execution_count": 44,
      "outputs": [
        {
          "output_type": "display_data",
          "data": {
            "text/plain": [
              "<Figure size 1000x600 with 1 Axes>"
            ],
            "image/png": "[encoded data removed]"
          },
          "metadata": {}
        }
      ]
    }
  ]
}